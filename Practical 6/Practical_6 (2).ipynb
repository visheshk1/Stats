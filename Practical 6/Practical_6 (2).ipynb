{
  "nbformat": 4,
  "nbformat_minor": 0,
  "metadata": {
    "colab": {
      "provenance": []
    },
    "kernelspec": {
      "name": "python3",
      "display_name": "Python 3"
    },
    "language_info": {
      "name": "python"
    }
  },
  "cells": [
    {
      "cell_type": "code",
      "execution_count": 5,
      "metadata": {
        "id": "aDRgZu-NeZlv",
        "colab": {
          "base_uri": "https://localhost:8080/"
        },
        "outputId": "d12041c9-20af-493e-8171-a7f82639cb9e"
      },
      "outputs": [
        {
          "output_type": "stream",
          "name": "stdout",
          "text": [
            "     prof  Gender  Age Tenure  Evaluation  Students  Beauty CourseLevel\n",
            "0  Prof52    Male   32    Yes        4.27        51    3.53       Lower\n",
            "1  Prof93    Male   30    Yes        4.97        31    4.67       Upper\n",
            "2  Prof15    Male   42     No        3.13        63    4.68       Lower\n",
            "3  Prof72  Female   42     No        4.98        98    3.54       Upper\n",
            "4  Prof61  Female   44    Yes        3.39        86    4.01       Lower\n"
          ]
        }
      ],
      "source": [
        "import pandas as pd\n",
        "import scipy.stats as stats\n",
        "\n",
        "df = pd.read_csv(\"/content/randomized_teachers_rating_data.csv\")\n",
        "\n",
        "print(df.head())"
      ]
    },
    {
      "cell_type": "markdown",
      "source": [
        "# Q1. T-Test: Using the teachers' rating data set, does gender affect teaching evaluation rates?"
      ],
      "metadata": {
        "id": "CvOWiVM57kWQ"
      }
    },
    {
      "cell_type": "code",
      "source": [
        "correlation, p_value = stats.pearsonr(df['Beauty'], df['Evaluation'])\n",
        "\n",
        "print(f\"Correlation between Beauty and Evaluation: {correlation:.4f}\")\n",
        "print(f\"P-value: {p_value:.4f}\")"
      ],
      "metadata": {
        "colab": {
          "base_uri": "https://localhost:8080/"
        },
        "id": "4H0SO8fA66VO",
        "outputId": "692d5937-eecc-4e8c-aabb-ae338840bf24"
      },
      "execution_count": 6,
      "outputs": [
        {
          "output_type": "stream",
          "name": "stdout",
          "text": [
            "Correlation between Beauty and Evaluation: -0.0163\n",
            "P-value: 0.8602\n"
          ]
        }
      ]
    },
    {
      "cell_type": "markdown",
      "source": [
        "Correlation Coefficient: -0.0163\n",
        "\n",
        "This value indicates a very weak negative linear relationship between Beauty and Evaluation.\n",
        "In practical terms, this means that as a professor's perceived beauty score increases, their evaluation score tends to slightly decrease — but the effect is extremely small and negligible.\n",
        "\n",
        "P-value: 0.8602\n",
        "\n",
        "Since this p-value is greater than the standard significance level of 0.05, the correlation is not statistically significant.\n",
        "This means we fail to reject the null hypothesis, indicating that the weak negative relationship observed in the sample could easily be due to random variation and does not provide strong evidence of a real relationship in the overall population."
      ],
      "metadata": {
        "id": "cKzi3C4b7Xfn"
      }
    },
    {
      "cell_type": "markdown",
      "source": [
        "# Q2. ANOVA: Using the teachers' rating data set, does beauty score for instructors differ by age?"
      ],
      "metadata": {
        "id": "4k-Cv_9Q7taS"
      }
    },
    {
      "cell_type": "markdown",
      "source": [
        "## Objective:\n",
        "To check whether beauty scores differ significantly across different age groups.\n",
        "\n",
        "## Hypotheses:\n",
        "\n",
        "H₀: Mean beauty scores are equal across all age groups.\n",
        "\n",
        "H₁: At least one group has a different mean beauty score.\n",
        "\n",
        "## Test Used:\n",
        "One-way ANOVA"
      ],
      "metadata": {
        "id": "iaFn4vnS8UTl"
      }
    },
    {
      "cell_type": "code",
      "source": [
        "male_eval = df[df['Gender'] == 'Male']['Evaluation']\n",
        "female_eval = df[df['Gender'] == 'Female']['Evaluation']\n",
        "\n",
        "t_stat, p_value_gender = stats.ttest_ind(male_eval, female_eval)\n",
        "\n",
        "print(f\"T-statistic: {t_stat:.4f}\")\n",
        "print(f\"P-value: {p_value_gender:.4f}\")"
      ],
      "metadata": {
        "colab": {
          "base_uri": "https://localhost:8080/"
        },
        "id": "h3q1VYDB7HW6",
        "outputId": "ed6aef7b-d2c1-4aa6-b30e-e961394fcdb8"
      },
      "execution_count": 7,
      "outputs": [
        {
          "output_type": "stream",
          "name": "stdout",
          "text": [
            "T-statistic: -1.4065\n",
            "P-value: 0.1622\n"
          ]
        }
      ]
    },
    {
      "cell_type": "markdown",
      "source": [
        "T-statistic: -1.4065\n",
        "\n",
        "This negative value indicates that the average 'Evaluation' score for male professors is slightly lower than the average score for female professors.\n",
        "However, the difference is small and not practically meaningful.\n",
        "\n",
        "P-value: 0.1622\n",
        "\n",
        "Since this p-value is greater than the standard significance level of 0.05, the result is not statistically significant.\n",
        "We therefore fail to reject the null hypothesis, indicating that there is no significant difference in the mean evaluation scores between male and female professors in this dataset."
      ],
      "metadata": {
        "id": "f-TH8aEq7zwB"
      }
    },
    {
      "cell_type": "markdown",
      "source": [
        "# Q3. Chi-square: Using the teachers' rating data set, is there an association between tenure and gender?"
      ],
      "metadata": {
        "id": "1ow15Xl58FDs"
      }
    },
    {
      "cell_type": "markdown",
      "source": [
        "# Objective:\n",
        "To test whether tenure and gender are independent or associated.\n",
        "\n",
        "# Hypotheses:\n",
        "\n",
        "H₀: Tenure and gender are independent.\n",
        "\n",
        "H₁: There is an association between tenure and gender.\n",
        "\n",
        "Test Used:\n",
        "Chi-square test of independence"
      ],
      "metadata": {
        "id": "-dXPO2rx8OFs"
      }
    },
    {
      "cell_type": "code",
      "source": [
        "contingency_table = pd.crosstab(df['Tenure'], df['Gender'])\n",
        "chi2, p, dof, expected = stats.chi2_contingency(contingency_table)\n",
        "print(\"Chi-square:\", chi2)\n",
        "print(\"P-Value:\", p)"
      ],
      "metadata": {
        "colab": {
          "base_uri": "https://localhost:8080/"
        },
        "id": "AV-UPr2A7zMR",
        "outputId": "41c8f70e-dc2f-41e1-ce79-b86c5a2b726c"
      },
      "execution_count": 8,
      "outputs": [
        {
          "output_type": "stream",
          "name": "stdout",
          "text": [
            "Chi-square: 0.3310169039069295\n",
            "P-Value: 0.5650609108682598\n"
          ]
        }
      ]
    },
    {
      "cell_type": "markdown",
      "source": [
        "# Interpretation:\n",
        "\n",
        "fail to reject H₀ → They are independent."
      ],
      "metadata": {
        "id": "UvBenR0Z8SN9"
      }
    },
    {
      "cell_type": "markdown",
      "source": [
        "# Q4. Correlation: Using the teachers' rating dataset, is teaching evaluation score correlated with beauty score?"
      ],
      "metadata": {
        "id": "VXaZOK7p8fbm"
      }
    },
    {
      "cell_type": "markdown",
      "source": [
        "# Objective:\n",
        "To test whether there is a linear relationship between evaluation and beauty.\n",
        "\n",
        "# Hypotheses:\n",
        "\n",
        "H₀: There is no correlation between evaluation and beauty.\n",
        "\n",
        "H₁: There is a correlation between evaluation and beauty.\n",
        "\n",
        "Test Used:\n",
        "Pearson Correlation Coefficient"
      ],
      "metadata": {
        "id": "G16KxS_N8irW"
      }
    },
    {
      "cell_type": "code",
      "source": [
        "tenured_eval = df[df['Tenure'] == 'Yes']['Evaluation']\n",
        "non_tenured_eval = df[df['Tenure'] == 'No']['Evaluation']\n",
        "\n",
        "t_stat_tenure, p_value_tenure = stats.ttest_ind(tenured_eval, non_tenured_eval)\n",
        "\n",
        "print(f\"T-statistic: {t_stat_tenure:.4f}\")\n",
        "print(f\"P-value: {p_value_tenure:.4f}\")"
      ],
      "metadata": {
        "colab": {
          "base_uri": "https://localhost:8080/"
        },
        "id": "eV2NaNfv8D1_",
        "outputId": "6d7f76c1-2756-4015-e899-59f9a8e16084"
      },
      "execution_count": 9,
      "outputs": [
        {
          "output_type": "stream",
          "name": "stdout",
          "text": [
            "T-statistic: -0.1541\n",
            "P-value: 0.8778\n"
          ]
        }
      ]
    },
    {
      "cell_type": "markdown",
      "source": [
        "T-statistic: -0.1541\n",
        "\n",
        "This negative value indicates that the average 'Evaluation' score for tenured professors is slightly lower than that of non-tenured professors.\n",
        "However, the difference in means is very small and not practically meaningful.\n",
        "\n",
        "P-value: 0.8778\n",
        "\n",
        "Since this p-value is greater than the standard significance level of 0.05, the result is not statistically significant.\n",
        "Therefore, we fail to reject the null hypothesis, indicating that tenure status does not have a significant effect on teaching evaluation scores."
      ],
      "metadata": {
        "id": "-pvt0zbW86Ih"
      }
    },
    {
      "cell_type": "code",
      "source": [],
      "metadata": {
        "id": "37NNlIFfAsgq"
      },
      "execution_count": null,
      "outputs": []
    }
  ]
}