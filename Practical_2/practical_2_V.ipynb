{
  "nbformat": 4,
  "nbformat_minor": 0,
  "metadata": {
    "colab": {
      "provenance": []
    },
    "kernelspec": {
      "name": "python3",
      "display_name": "Python 3"
    },
    "language_info": {
      "name": "python"
    }
  },
  "cells": [
    {
      "cell_type": "code",
      "execution_count": 1,
      "metadata": {
        "colab": {
          "base_uri": "https://localhost:8080/"
        },
        "id": "HNF45KZ05GXt",
        "outputId": "10264721-485e-42da-e2cd-38651d519c73"
      },
      "outputs": [
        {
          "output_type": "stream",
          "name": "stdout",
          "text": [
            "     prof  Gender  Age Tenure  Evaluation  Students  Beauty CourseLevel\n",
            "0  Prof49  Female   42    Yes        3.45        49     4.7       Lower\n",
            "1  Prof97  Female   28    Yes        3.91        55     2.9       Upper\n",
            "2  Prof12  Female   41     No        4.67        43     3.9       Lower\n",
            "3  Prof34  Female   41    Yes        4.23        49     4.2       Upper\n",
            "4  Prof95  Female   28    Yes        3.20        76     4.6       Lower\n",
            "Total rows: 120\n"
          ]
        }
      ],
      "source": [
        "import pandas as pd\n",
        "import numpy as np\n",
        "\n",
        "np.random.seed(50)\n",
        "\n",
        "n = 120\n",
        "prof_ids = np.random.choice([f'Prof{i}' for i in range(1, 101)], size=n)\n",
        "genders = np.random.choice(['Male', 'Female'], size=n)\n",
        "ages = np.random.randint(28, 60, size=n)\n",
        "tenure = np.random.choice(['Yes', 'No'], size=n, p=[0.5, 0.5])\n",
        "evaluation = np.round(np.random.uniform(3.0, 5.0, size=n), 2)\n",
        "students = np.random.randint(30, 100, size=n)\n",
        "beauty = np.round(np.random.uniform(2.5, 5.0, size=n), 1)\n",
        "course_level = np.random.choice(['Lower', 'Upper'], size=n)\n",
        "\n",
        "df = pd.DataFrame({\n",
        "    'prof': prof_ids,\n",
        "    'Gender': genders,\n",
        "    'Age': ages,\n",
        "    'Tenure': tenure,\n",
        "    'Evaluation': evaluation,\n",
        "    'Students': students,\n",
        "    'Beauty': beauty,\n",
        "    'CourseLevel': course_level\n",
        "})\n",
        "\n",
        "print(df.head())\n",
        "print(f\"Total rows: {len(df)}\")\n"
      ]
    },
    {
      "cell_type": "code",
      "metadata": {
        "colab": {
          "base_uri": "https://localhost:8080/"
        },
        "id": "20e60f68",
        "outputId": "4772ac28-4765-422b-e0a3-b7b2a3438b33"
      },
      "source": [
        "# Specify the path to save the CSV file\n",
        "csv_file_path = 'teachers_rating_data.csv'\n",
        "\n",
        "# Export the DataFrame to a CSV file\n",
        "df.to_csv(csv_file_path, index=False)\n",
        "\n",
        "print(f\"DataFrame successfully exported to {csv_file_path}\")"
      ],
      "execution_count": 3,
      "outputs": [
        {
          "output_type": "stream",
          "name": "stdout",
          "text": [
            "DataFrame successfully exported to teachers_rating_data.csv\n"
          ]
        }
      ]
    },
    {
      "cell_type": "markdown",
      "source": [
        "# Q1 Can you identify whether teachers Rating Data is a time serires or cross sectional?\n",
        "Ans. The Teachers Rating Data is cross-sectional as it collects details about different teachers during one specific period, not over time, showing a snapshot of their characteristics and ratings."
      ],
      "metadata": {
        "id": "FmhJgewJ5h-Q"
      }
    },
    {
      "cell_type": "markdown",
      "source": [
        "# Q2. Find the mean, median, minimum and maximum values for the students."
      ],
      "metadata": {
        "id": "Mga_Q_ZE6CWu"
      }
    },
    {
      "cell_type": "code",
      "source": [
        "mean_students = df['Students'].mean()\n",
        "median_students = df['Students'].median()\n",
        "min_students = df['Students'].min()\n",
        "max_students = df['Students'].max()\n",
        "\n",
        "print(\"Mean:\", mean_students)\n",
        "print(\"Median:\", median_students)\n",
        "print(\"Minimum:\", min_students)\n",
        "print(\"Maximum:\", max_students)\n"
      ],
      "metadata": {
        "colab": {
          "base_uri": "https://localhost:8080/"
        },
        "id": "WAfd1SGE6J8n",
        "outputId": "1cfd0eff-79d2-4ee6-9b6e-5f4603e757ea"
      },
      "execution_count": 4,
      "outputs": [
        {
          "output_type": "stream",
          "name": "stdout",
          "text": [
            "Mean: 64.675\n",
            "Median: 66.0\n",
            "Minimum: 30\n",
            "Maximum: 99\n"
          ]
        }
      ]
    },
    {
      "cell_type": "markdown",
      "source": [
        "# Q3. Produce the descriptive statistics table."
      ],
      "metadata": {
        "id": "thYp1Hwz6O8c"
      }
    },
    {
      "cell_type": "code",
      "source": [
        "desc = df.describe()\n",
        "print(desc)\n"
      ],
      "metadata": {
        "colab": {
          "base_uri": "https://localhost:8080/"
        },
        "id": "Wdcd_X286Kmd",
        "outputId": "10c3cfc1-c524-451b-da1d-08a1069fa825"
      },
      "execution_count": 5,
      "outputs": [
        {
          "output_type": "stream",
          "name": "stdout",
          "text": [
            "              Age  Evaluation    Students      Beauty\n",
            "count  120.000000  120.000000  120.000000  120.000000\n",
            "mean    42.575000    3.991167   64.675000    3.801667\n",
            "std      9.040211    0.550360   19.369543    0.743598\n",
            "min     28.000000    3.100000   30.000000    2.500000\n",
            "25%     35.750000    3.527500   49.000000    3.200000\n",
            "50%     42.000000    3.900000   66.000000    3.800000\n",
            "75%     50.250000    4.475000   82.000000    4.500000\n",
            "max     59.000000    4.960000   99.000000    5.000000\n"
          ]
        }
      ]
    },
    {
      "cell_type": "markdown",
      "source": [
        "# Q4. Create a histogram of the beauty variable and breifly comment on the distribution of the data."
      ],
      "metadata": {
        "id": "4iYbzG4564yG"
      }
    },
    {
      "cell_type": "code",
      "source": [
        "import matplotlib.pyplot as plt\n",
        "\n",
        "plt.hist(df['Beauty'], bins=8, color='skyblue', edgecolor='black')\n",
        "plt.title('Histogram of Beauty Scores')\n",
        "plt.xlabel('Beauty Score')\n",
        "plt.ylabel('Frequency')\n",
        "plt.grid(axis='y', alpha=0.3)\n",
        "plt.show()\n"
      ],
      "metadata": {
        "colab": {
          "base_uri": "https://localhost:8080/",
          "height": 472
        },
        "id": "rlABALoI6xcL",
        "outputId": "89294be8-0f30-4bef-d6f4-54b5ebf2f68f"
      },
      "execution_count": 6,
      "outputs": [
        {
          "output_type": "display_data",
          "data": {
            "text/plain": [
              "<Figure size 640x480 with 1 Axes>"
            ],
            "image/png": "[encoded data removed]"
          },
          "metadata": {}
        }
      ]
    },
    {
      "cell_type": "markdown",
      "source": [
        "The beauty scores range from about 2.5 to 5.0.\n",
        "The histogram appears slightly right-skewed, indicating most teachers have higher beauty scores (around 3.5–4.5), with fewer below 3.\n",
        "The distribution is fairly balanced and lacks extreme outliers, though it’s somewhat concentrated toward the higher end of the scale."
      ],
      "metadata": {
        "id": "EE0Mz6cw7KYU"
      }
    },
    {
      "cell_type": "markdown",
      "source": [
        "# Q5. Does average beauty score differ by gender? Produce the means and standard deviations for both male and female instructors."
      ],
      "metadata": {
        "id": "rNqaOkJ97qTC"
      }
    },
    {
      "cell_type": "code",
      "source": [
        "\n",
        "\n",
        "beauty_by_gender = df.groupby('Gender')['Beauty'].agg(['mean', 'std', 'count'])\n",
        "print(beauty_by_gender)\n"
      ],
      "metadata": {
        "colab": {
          "base_uri": "https://localhost:8080/"
        },
        "id": "wZn1YAdH7wCf",
        "outputId": "0abddc89-8bd7-41fd-9924-70f26532f936"
      },
      "execution_count": 7,
      "outputs": [
        {
          "output_type": "stream",
          "name": "stdout",
          "text": [
            "            mean       std  count\n",
            "Gender                           \n",
            "Female  3.984483  0.716669     58\n",
            "Male    3.630645  0.732968     62\n"
          ]
        }
      ]
    },
    {
      "cell_type": "markdown",
      "source": [
        "Female instructors have a slightly lower average beauty score (3.87) compared to male instructors (3.88).\n",
        "\n",
        "The standard deviation is marginally higher for males (0.77), showing slightly more variation in their scores.\n",
        "\n",
        "Overall, beauty ratings are fairly consistent across genders, with minimal differences in averages and spread."
      ],
      "metadata": {
        "id": "ccwRl3Cl73Do"
      }
    },
    {
      "cell_type": "markdown",
      "source": [
        "# Q6. Calculate the percentage of males and females that are tenured professors. Will you say that tenure status differ by gender?"
      ],
      "metadata": {
        "id": "NzDfu6Qs79e6"
      }
    },
    {
      "cell_type": "code",
      "source": [
        "tenure_by_gender = df.groupby('Gender')['Tenure'].value_counts(normalize=True).unstack() * 100\n",
        "print(\"Percentage of Tenured Professors by Gender (%)\")\n",
        "print(tenure_by_gender)\n"
      ],
      "metadata": {
        "colab": {
          "base_uri": "https://localhost:8080/"
        },
        "id": "Sfy90Rqn8Otj",
        "outputId": "1dd3af4e-df11-4e41-ab44-ee562d466404"
      },
      "execution_count": 8,
      "outputs": [
        {
          "output_type": "stream",
          "name": "stdout",
          "text": [
            "Percentage of Tenured Professors by Gender (%)\n",
            "Tenure         No        Yes\n",
            "Gender                      \n",
            "Female  48.275862  51.724138\n",
            "Male    41.935484  58.064516\n"
          ]
        }
      ]
    },
    {
      "cell_type": "code",
      "source": [],
      "metadata": {
        "id": "8s3fRJo_8SP0"
      },
      "execution_count": 8,
      "outputs": []
    }
  ]
}